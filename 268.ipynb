{
 "cells": [
  {
   "cell_type": "code",
   "execution_count": null,
   "metadata": {},
   "outputs": [],
   "source": [
    "#A\n",
    "L = list(map(int,input().split()))\n",
    "L = list(set(L))\n",
    "\n",
    "print(len(L))"
   ]
  },
  {
   "cell_type": "code",
   "execution_count": null,
   "metadata": {},
   "outputs": [],
   "source": [
    "#B\n",
    "\n",
    "S = input()\n",
    "T = input()\n"
   ]
  },
  {
   "cell_type": "code",
   "execution_count": null,
   "metadata": {},
   "outputs": [],
   "source": [
    "S_len = len(S)\n",
    "\n",
    "if S == T[0:S_len]:\n",
    "    print(\"Yes\")\n",
    "else:\n",
    "    print(\"No\")"
   ]
  },
  {
   "cell_type": "code",
   "execution_count": 8,
   "metadata": {},
   "outputs": [],
   "source": [
    "#C\n",
    "N = int(input())\n",
    "P = list(map(int,input().split()))"
   ]
  },
  {
   "cell_type": "code",
   "execution_count": null,
   "metadata": {},
   "outputs": [],
   "source": []
  },
  {
   "cell_type": "code",
   "execution_count": 9,
   "metadata": {},
   "outputs": [
    {
     "name": "stdout",
     "output_type": "stream",
     "text": [
      "10 [3, 9, 6, 1, 7, 2, 8, 0, 5, 4]\n"
     ]
    }
   ],
   "source": [
    "print(N,P)"
   ]
  },
  {
   "cell_type": "code",
   "execution_count": 11,
   "metadata": {},
   "outputs": [
    {
     "name": "stdout",
     "output_type": "stream",
     "text": [
      "[9, 6, 1, 7, 2, 8, 0, 5, 4, 3]\n",
      "更新 [9, 6, 1, 7, 2, 8, 0, 5, 4, 3] 2\n",
      "[6, 1, 7, 2, 8, 0, 5, 4, 3, 9]\n",
      "更新 [6, 1, 7, 2, 8, 0, 5, 4, 3, 9] 4\n",
      "[1, 7, 2, 8, 0, 5, 4, 3, 9, 6]\n",
      "更新 [1, 7, 2, 8, 0, 5, 4, 3, 9, 6] 6\n",
      "[7, 2, 8, 0, 5, 4, 3, 9, 6, 1]\n",
      "[2, 8, 0, 5, 4, 3, 9, 6, 1, 7]\n",
      "[8, 0, 5, 4, 3, 9, 6, 1, 7, 2]\n",
      "[0, 5, 4, 3, 9, 6, 1, 7, 2, 8]\n",
      "[5, 4, 3, 9, 6, 1, 7, 2, 8, 0]\n",
      "[4, 3, 9, 6, 1, 7, 2, 8, 0, 5]\n",
      "[3, 9, 6, 1, 7, 2, 8, 0, 5, 4]\n",
      "6\n"
     ]
    }
   ],
   "source": [
    "import copy\n",
    "max_point = 0\n",
    "P_now = copy.copy(P)\n",
    "\n",
    "\n",
    "for i in range(N):\n",
    "    moved_int = P[0: i+1]\n",
    "    sorted_list = P[i+1:] + moved_int\n",
    "\n",
    "    print(sorted_list)\n",
    "    local_point = 0\n",
    "\n",
    "    for i, p in enumerate(sorted_list):\n",
    "        if p == i or p == i+1 or p == i-1 or p + i == N:\n",
    "            local_point += 1     \n",
    "\n",
    "    if local_point > max_point:\n",
    "        max_point = local_point\n",
    "        print(\"更新\",sorted_list,max_point)\n",
    "\n",
    "print(max_point)"
   ]
  },
  {
   "cell_type": "code",
   "execution_count": null,
   "metadata": {},
   "outputs": [],
   "source": [
    "P[0:] + P[0:0]"
   ]
  },
  {
   "cell_type": "code",
   "execution_count": null,
   "metadata": {},
   "outputs": [],
   "source": [
    "point = 0\n",
    "for i, p in enumerate(P):\n",
    "    if p == i or p == i+1 or p == i-1:\n",
    "        point += 1\n",
    "\n",
    "print(point)"
   ]
  },
  {
   "cell_type": "code",
   "execution_count": null,
   "metadata": {},
   "outputs": [],
   "source": [
    "#差分のテスト"
   ]
  },
  {
   "cell_type": "code",
   "execution_count": null,
   "metadata": {},
   "outputs": [],
   "source": []
  }
 ],
 "metadata": {
  "kernelspec": {
   "display_name": "Python 3.9.7 ('base')",
   "language": "python",
   "name": "python3"
  },
  "language_info": {
   "codemirror_mode": {
    "name": "ipython",
    "version": 3
   },
   "file_extension": ".py",
   "mimetype": "text/x-python",
   "name": "python",
   "nbconvert_exporter": "python",
   "pygments_lexer": "ipython3",
   "version": "3.9.7"
  },
  "orig_nbformat": 4,
  "vscode": {
   "interpreter": {
    "hash": "ad2bdc8ecc057115af97d19610ffacc2b4e99fae6737bb82f5d7fb13d2f2c186"
   }
  }
 },
 "nbformat": 4,
 "nbformat_minor": 2
}
