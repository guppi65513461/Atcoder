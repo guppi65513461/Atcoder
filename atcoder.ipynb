{
 "cells": [
  {
   "cell_type": "code",
   "execution_count": null,
   "metadata": {},
   "outputs": [],
   "source": []
  },
  {
   "cell_type": "code",
   "execution_count": null,
   "metadata": {},
   "outputs": [],
   "source": [
    "#お年玉-085C\n",
    "N,Y = map(int,input().split())\n",
    "#合計N枚、金額Y円。\n",
    "# 条件を満たす枚数の組を一つ出力(10000,5000,1000)の順\n",
    "n10000 = 0\n",
    "n5000 = 0\n",
    "n1000 = 0\n",
    "\n",
    "for a in range(N+1):\n",
    "    for b in range(N+1):\n",
    "        c = (Y- a*10000-b*5000)/1000\n",
    "        if (Y- a*10000-b*5000)%1000 == 0 and a+b+c == N and c >= 0:\n",
    "            print(a,b,int(c)) \n",
    "            exit()\n",
    "\n",
    "print(-1,-1,-1)"
   ]
  },
  {
   "cell_type": "code",
   "execution_count": 6,
   "metadata": {},
   "outputs": [
    {
     "name": "stdout",
     "output_type": "stream",
     "text": [
      "512\n"
     ]
    }
   ],
   "source": [
    "#97B もう一回!\n",
    "import math\n",
    "X = int(input())\n",
    "ans = 0\n",
    "\n",
    "for n in range(1, X+1):\n",
    "    for a in range(2,11):\n",
    "        if n ** a <= X:\n",
    "            ans = max(n**a, ans)\n",
    "        else:\n",
    "            break\n",
    "\n",
    "print(ans)"
   ]
  },
  {
   "cell_type": "code",
   "execution_count": 31,
   "metadata": {},
   "outputs": [
    {
     "name": "stdout",
     "output_type": "stream",
     "text": [
      "5 5 5\n",
      "1\n"
     ]
    }
   ],
   "source": [
    "#098 B\n",
    "k,s = map(int,input().split())\n",
    "\n",
    "count = 0\n",
    "\n",
    "for x in range(k+1):\n",
    "    for y in range(k+1):\n",
    "        z = s-x-y\n",
    "        #print(x,y,z)\n",
    "        if s == x+y+z and z <= k and z >= 0:\n",
    "            count += 1\n",
    "            #print(x,y,z)\n",
    "\n",
    "print(count)\n",
    "#問題の条件を読み間違えない"
   ]
  },
  {
   "cell_type": "code",
   "execution_count": 34,
   "metadata": {},
   "outputs": [
    {
     "data": {
      "text/plain": [
       "999999999"
      ]
     },
     "execution_count": 34,
     "metadata": {},
     "output_type": "execute_result"
    }
   ],
   "source": [
    "num = int(\"9\" * 9)\n"
   ]
  },
  {
   "cell_type": "code",
   "execution_count": 55,
   "metadata": {},
   "outputs": [
    {
     "name": "stdout",
     "output_type": "stream",
     "text": [
      "[0, 3, 0]\n"
     ]
    }
   ],
   "source": [
    "#157 C\n",
    "res = -1\n",
    "N,M = map(int,input().split()) #Mはキューの数、Nは桁数\n",
    "num = [0]*N\n",
    "\n",
    "for _ in range(M):\n",
    "    s,c = map(int,input().split())\n",
    "    num[s-1] = c\n",
    "\n",
    "#print(num)"
   ]
  },
  {
   "cell_type": "code",
   "execution_count": 65,
   "metadata": {},
   "outputs": [
    {
     "ename": "ValueError",
     "evalue": "not enough values to unpack (expected 2, got 0)",
     "output_type": "error",
     "traceback": [
      "\u001b[1;31m---------------------------------------------------------------------------\u001b[0m",
      "\u001b[1;31mValueError\u001b[0m                                Traceback (most recent call last)",
      "\u001b[1;32m~\\AppData\\Local\\Temp/ipykernel_28688/63869905.py\u001b[0m in \u001b[0;36m<module>\u001b[1;34m\u001b[0m\n\u001b[0;32m      1\u001b[0m \u001b[1;31m#157 C\u001b[0m\u001b[1;33m\u001b[0m\u001b[1;33m\u001b[0m\u001b[0m\n\u001b[0;32m      2\u001b[0m \u001b[0mres\u001b[0m \u001b[1;33m=\u001b[0m \u001b[1;33m-\u001b[0m\u001b[1;36m1\u001b[0m\u001b[1;33m\u001b[0m\u001b[1;33m\u001b[0m\u001b[0m\n\u001b[1;32m----> 3\u001b[1;33m \u001b[0mN\u001b[0m\u001b[1;33m,\u001b[0m\u001b[0mM\u001b[0m \u001b[1;33m=\u001b[0m \u001b[0mmap\u001b[0m\u001b[1;33m(\u001b[0m\u001b[0mint\u001b[0m\u001b[1;33m,\u001b[0m\u001b[0minput\u001b[0m\u001b[1;33m(\u001b[0m\u001b[1;33m)\u001b[0m\u001b[1;33m.\u001b[0m\u001b[0msplit\u001b[0m\u001b[1;33m(\u001b[0m\u001b[1;33m)\u001b[0m\u001b[1;33m)\u001b[0m \u001b[1;31m#Mはキューの数、Nは桁数\u001b[0m\u001b[1;33m\u001b[0m\u001b[1;33m\u001b[0m\u001b[0m\n\u001b[0m\u001b[0;32m      4\u001b[0m \u001b[0mnum\u001b[0m \u001b[1;33m=\u001b[0m \u001b[1;33m[\u001b[0m\u001b[1;36m0\u001b[0m\u001b[1;33m]\u001b[0m\u001b[1;33m*\u001b[0m\u001b[0mN\u001b[0m\u001b[1;33m\u001b[0m\u001b[1;33m\u001b[0m\u001b[0m\n\u001b[0;32m      5\u001b[0m \u001b[0mques\u001b[0m \u001b[1;33m=\u001b[0m \u001b[1;33m{\u001b[0m\u001b[1;33m}\u001b[0m\u001b[1;33m\u001b[0m\u001b[1;33m\u001b[0m\u001b[0m\n",
      "\u001b[1;31mValueError\u001b[0m: not enough values to unpack (expected 2, got 0)"
     ]
    }
   ],
   "source": [
    "#157 C\n",
    "res = -1\n",
    "N,M = map(int,input().split()) #Mはキューの数、Nは桁数\n",
    "num = [0]*N\n",
    "ques = {}\n",
    "\n",
    "for _ in range(M):\n",
    "    s,c = map(int,input().split())\n",
    "    \n",
    "    num[s-1] = c\n",
    "    if s in ques and c != ques[s]:\n",
    "        print(-1)\n",
    "    else:\n",
    "        ques[s] = c\n",
    "\n",
    "\n",
    "#print(num)\n",
    "\n",
    "n_str = \"\"\n",
    "for n in num:\n",
    "    n_str += str(n)\n",
    "n_int = int(n_str)\n",
    "\n",
    "if len(str(n_int)) == N:\n",
    "    print(len(str(n_int)),int(n_str))\n",
    "else:\n",
    "    print(-1)"
   ]
  },
  {
   "cell_type": "code",
   "execution_count": 60,
   "metadata": {},
   "outputs": [
    {
     "name": "stdout",
     "output_type": "stream",
     "text": [
      "3\n"
     ]
    }
   ],
   "source": [
    "print(N)"
   ]
  },
  {
   "cell_type": "code",
   "execution_count": 68,
   "metadata": {},
   "outputs": [],
   "source": [
    "res = -1\n",
    "N,M = map(int,input().split()) #Mはキューの数、Nは桁数\n",
    "num = [0]*N\n",
    "\n",
    "ques = []\n",
    "for _ in range(M):\n",
    "    ques.append(list(map(int,input().split())))\n",
    "\n",
    "for n in range(1000):\n",
    "    n_list = list(str(n))\n"
   ]
  },
  {
   "cell_type": "code",
   "execution_count": 69,
   "metadata": {},
   "outputs": [
    {
     "data": {
      "text/plain": [
       "[[1, 7], [3, 2], [1, 7]]"
      ]
     },
     "execution_count": 69,
     "metadata": {},
     "output_type": "execute_result"
    }
   ],
   "source": [
    "ques"
   ]
  },
  {
   "cell_type": "code",
   "execution_count": 1,
   "metadata": {},
   "outputs": [
    {
     "name": "stdout",
     "output_type": "stream",
     "text": [
      "['15']\n"
     ]
    }
   ],
   "source": [
    "#085 B\n",
    "n = int(input())\n",
    "ls = []\n",
    "for _ in range(n):\n",
    "    ls.append(input())\n",
    "ls = list(set(ls))\n",
    "\n",
    "print(len(ls))"
   ]
  },
  {
   "cell_type": "code",
   "execution_count": 20,
   "metadata": {},
   "outputs": [
    {
     "name": "stdout",
     "output_type": "stream",
     "text": [
      "0\n"
     ]
    }
   ],
   "source": [
    "from collections import defaultdict\n",
    "\n",
    "#137 C\n",
    "n = int(input())\n",
    "s = [list(input()) for _ in range(n)]\n",
    "dictList = []\n",
    "\n",
    "\n",
    "for i in s:\n",
    "    tmp_dict = defaultdict(int)\n",
    "    for j in i:\n",
    "        tmp_dict[j] += 1\n",
    "    tmp_dict = sorted(tmp_dict.items(), key=lambda x:x[0])\n",
    "    dictList.append(tmp_dict)\n",
    "\n",
    "\n",
    "count = 0\n",
    "\n",
    "for i in range(len(dictList)):\n",
    "    for j in range(i+1,len(dictList)):\n",
    "        if dictList[i] == dictList[j]:\n",
    "            count += 1\n",
    "\n",
    "print(count)\n"
   ]
  },
  {
   "cell_type": "code",
   "execution_count": 21,
   "metadata": {},
   "outputs": [],
   "source": [
    "n = int(input())\n",
    "s = [sorted(input()) for _ in range(n)]\n",
    "s_str = []\n",
    "\n",
    "for i in range(n):\n",
    "    for j in range(i,n):"
   ]
  },
  {
   "cell_type": "code",
   "execution_count": null,
   "metadata": {},
   "outputs": [],
   "source": [
    "from collections import defaultdict\n",
    "\n",
    "N = int(input())\n",
    "\n",
    "num = defaultdict(int)\n",
    "for i in range(N):\n",
    "    s = \"\".join(sorted(input))\n",
    "    num[s] += 1\n",
    "\n",
    "result = 0\n",
    "for s in num:\n",
    "    n = num[s]\n",
    "    result += n * (n-1) // 2\n",
    "\n",
    "print(result)\n",
    "\n",
    "\n",
    "#もう一度\n"
   ]
  },
  {
   "cell_type": "code",
   "execution_count": 29,
   "metadata": {},
   "outputs": [],
   "source": [
    "s = \"aaabbbbccccc\"\n",
    "N = len(s)\n",
    "\n",
    "while i < N:\n",
    "    j = i\n",
    "    while j < N and s[j] == s[i]:\n",
    "        j += 1\n",
    "        \n",
    "    print(s[i], j-i)\n",
    "    i=j\n"
   ]
  },
  {
   "cell_type": "code",
   "execution_count": 86,
   "metadata": {},
   "outputs": [
    {
     "name": "stdout",
     "output_type": "stream",
     "text": [
      "['FisH', 'DoG', 'CaT', 'AA', 'AaA', 'AbC', 'AC']\n",
      "['AA', 'AaA', 'AbC', 'AC', 'CaT', 'DoG', 'FisH']\n",
      "AAAaAAbCACCaTDoGFisH\n"
     ]
    }
   ],
   "source": [
    "#アルゴリズム実技検定 過去問F\n",
    "s = input()\n",
    "wordList = []\n",
    "N = len(s)\n",
    "\n",
    "workDesk = []\n",
    "upperCount = 0\n",
    "\n",
    "for c in list(s):\n",
    "    workDesk.append(c)\n",
    "    #print(workDesk)\n",
    "    if c.isupper():\n",
    "        upperCount += 1\n",
    "        #print(upperCount)\n",
    "        if upperCount == 2:\n",
    "            wordList.append(\"\".join(workDesk))\n",
    "            workDesk = []\n",
    "            upperCount = 0\n",
    "\n",
    "    #print(workDesk,upperCount)\n",
    "#print(wordList)\n",
    "sortedList = sorted(sorted(wordList), key=str.lower)\n",
    "#print(sortedList)\n",
    "print(\"\".join(sortedList))\n",
    " "
   ]
  },
  {
   "cell_type": "code",
   "execution_count": 97,
   "metadata": {},
   "outputs": [
    {
     "name": "stdout",
     "output_type": "stream",
     "text": [
      "10\n"
     ]
    }
   ],
   "source": [
    "#143 C\n",
    "n = int(input())\n",
    "S = input()\n",
    "\n",
    "#n = 5\n",
    "#S = \"aabbcac\"\n",
    "S_list = []\n",
    "\n",
    "tmp_s = S[0] #比較する初期値を設定\n",
    "S_list.append(S[0])\n",
    "\n",
    "for s in list(S):\n",
    "    if s == tmp_s:\n",
    "        continue\n",
    "    elif s != tmp_s:\n",
    "        S_list.append(s)\n",
    "        tmp_s = s\n",
    "\n",
    "print(len(S_list))"
   ]
  },
  {
   "cell_type": "code",
   "execution_count": 95,
   "metadata": {},
   "outputs": [
    {
     "data": {
      "text/plain": [
       "['a', 'b', 'c', 'a', 'c']"
      ]
     },
     "execution_count": 95,
     "metadata": {},
     "output_type": "execute_result"
    }
   ],
   "source": [
    "S_list"
   ]
  },
  {
   "cell_type": "code",
   "execution_count": 1,
   "metadata": {},
   "outputs": [
    {
     "data": {
      "text/plain": [
       "[('<', 2), ('>', 3), ('<', 1), ('>', 1), ('<', 5), ('>', 3), ('<', 1)]"
      ]
     },
     "execution_count": 1,
     "metadata": {},
     "output_type": "execute_result"
    }
   ],
   "source": [
    "#AGC 040 A\n",
    "s =  \"<<>>><><<<<<>>><\" + \"-\"\n",
    "s_list = []\n",
    "\n",
    "tmp = s[0]\n",
    "tmp_count = 0\n",
    "\n",
    "for s in list(s):\n",
    "    if s == tmp:\n",
    "        tmp_count += 1\n",
    "    else:\n",
    "        s_list.append((tmp,tmp_count))\n",
    "        tmp = s\n",
    "        tmp_count = 1\n",
    "\n",
    "s_list"
   ]
  },
  {
   "cell_type": "code",
   "execution_count": 8,
   "metadata": {},
   "outputs": [
    {
     "name": "stdout",
     "output_type": "stream",
     "text": [
      "20\n"
     ]
    }
   ],
   "source": [
    "A = []\n",
    "tmp_a = 0\n",
    "\n",
    "tmp_sm = s_list[0][0] #最初の符号のメモ\n",
    "A.append(tmp_a) #スタートの値だけは追加しておく\n",
    "\n",
    "for s_component in s_list:\n",
    "    s_value = s_component[1]\n",
    "    for s in range(s_value):\n",
    "        if s_component[0] == \"<\":\n",
    "            tmp_a += 1\n",
    "        elif s_component[0] == \">\":\n",
    "            tmp_a = 0\n",
    "        A.append(tmp_a)\n",
    "\n",
    "    for s in range(s_value,-1):\n",
    "        if s_component[0] == \"<\":\n",
    "            tmp_a += 1\n",
    "        elif s_component[0] == \">\":\n",
    "            tmp_a = 0\n",
    "        A.append(tmp_a)\n",
    "\n",
    "\n",
    "#min = min(A)\n",
    "#abs_min = abs(min)\n",
    "\n",
    "#A = [a + abs_min for a in A]\n",
    "\n",
    "print(sum(A))"
   ]
  },
  {
   "cell_type": "code",
   "execution_count": 11,
   "metadata": {},
   "outputs": [
    {
     "name": "stdout",
     "output_type": "stream",
     "text": [
      "54\n"
     ]
    }
   ],
   "source": [
    "s = input()\n",
    "s_len = len(s)\n",
    "n = s_len+1\n",
    "a = [0 for _ in range(n)]\n",
    "\n",
    "for i in range(0, n - 1):\n",
    "    if s[i] == \"<\":\n",
    "        a[i+1] = a[i] + 1\n",
    "# print(a)\n",
    "\n",
    "# for i in range(n - 2, 0, -1):\n",
    "\"\"\"\n",
    "rangeの範囲に気をつけよう（～までの～は入らない！）\n",
    "\"\"\"\n",
    "for i in range(n - 2, -1, -1):\n",
    "    if s[i] == \">\":\n",
    "        #上書き\n",
    "        a[i] = max(a[i+1]+1, a[i])\n",
    "# print(a)\n",
    "\n",
    "\n",
    "# count\n",
    "print(sum(a))"
   ]
  },
  {
   "cell_type": "code",
   "execution_count": 5,
   "metadata": {},
   "outputs": [
    {
     "data": {
      "text/plain": [
       "-1"
      ]
     },
     "execution_count": 5,
     "metadata": {},
     "output_type": "execute_result"
    }
   ],
   "source": [
    "N,M = map(int,input().split())\n",
    "G = [[] for i in range(N)]\n",
    "\n",
    "for i in range(M):\n",
    "    u, v = map(int, input().split())\n",
    "    G[u].append(v)\n",
    "    G[v].append(u)"
   ]
  },
  {
   "cell_type": "code",
   "execution_count": 18,
   "metadata": {},
   "outputs": [
    {
     "data": {
      "text/plain": [
       "[[], [], []]"
      ]
     },
     "execution_count": 18,
     "metadata": {},
     "output_type": "execute_result"
    }
   ],
   "source": [
    "N_list = [[] for _ in range(3)]\n",
    "N_list"
   ]
  },
  {
   "cell_type": "code",
   "execution_count": null,
   "metadata": {},
   "outputs": [],
   "source": [
    "N,M,Q = map(int,input().split())\n",
    "N_list = [[] for _ in range(N)] #各頂点ごとの接続先を格納するリスト\n",
    "\n",
    "for _ in range(M): #辺の情報を格納する処理\n",
    "    v,u = map(int,input().split())\n",
    "    "
   ]
  }
 ],
 "metadata": {
  "kernelspec": {
   "display_name": "Python 3.9.7 ('base')",
   "language": "python",
   "name": "python3"
  },
  "language_info": {
   "codemirror_mode": {
    "name": "ipython",
    "version": 3
   },
   "file_extension": ".py",
   "mimetype": "text/x-python",
   "name": "python",
   "nbconvert_exporter": "python",
   "pygments_lexer": "ipython3",
   "version": "3.9.7"
  },
  "orig_nbformat": 4,
  "vscode": {
   "interpreter": {
    "hash": "ad2bdc8ecc057115af97d19610ffacc2b4e99fae6737bb82f5d7fb13d2f2c186"
   }
  }
 },
 "nbformat": 4,
 "nbformat_minor": 2
}
