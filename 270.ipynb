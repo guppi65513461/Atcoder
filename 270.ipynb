{
 "cells": [
  {
   "cell_type": "code",
   "execution_count": 1,
   "metadata": {},
   "outputs": [],
   "source": [
    "A,B = map(int,input().split())\n"
   ]
  },
  {
   "cell_type": "code",
   "execution_count": 3,
   "metadata": {},
   "outputs": [],
   "source": [
    "A_m = [0,0,0]\n",
    "B_m = [0,0,0]\n",
    "#Aをチェック\n",
    "if A in [1,3,5]:\n",
    "    A_m[0] = 1\n",
    "    if A == 3:\n",
    "        A_m[1] = 1\n",
    "    if A == 5:\n",
    "        A_m[2] = 1\n",
    "\n",
    "if A in [2,6]:\n",
    "    A_m[1] = 1\n",
    "    if A ==6:\n",
    "        A_m[2] = 1\n",
    "\n",
    "if A == 4:\n",
    "    A_m[2] = 1\n",
    "\n",
    "#Bをチェック\n",
    "if B in [1,3,5]:\n",
    "    B_m[0] = 1\n",
    "    if B == 3:\n",
    "        B_m[1] = 1\n",
    "    if B == 5:\n",
    "        B_m[2] = 1\n",
    "\n",
    "if B in [2,6]:\n",
    "    B_m[1] = 1\n",
    "    if B ==6:\n",
    "        B_m[2] = 1\n",
    "\n",
    "if B == 4:\n",
    "    B_m[2] = 1"
   ]
  },
  {
   "cell_type": "code",
   "execution_count": 7,
   "metadata": {},
   "outputs": [
    {
     "data": {
      "text/plain": [
       "[0, 1, 0]"
      ]
     },
     "execution_count": 7,
     "metadata": {},
     "output_type": "execute_result"
    }
   ],
   "source": [
    "if B in [1,3,5]:\n",
    "    B_m[0] = 1\n",
    "    if B == 3:\n",
    "        B_m[1] = 1\n",
    "    if B == 5:\n",
    "        B_m[2] = 1\n",
    "\n",
    "if B in [2,6]:\n",
    "    B_m[1] = 1\n",
    "    if B ==6:\n",
    "        B_m[2] = 1\n",
    "\n",
    "if B == 4:\n",
    "    B_m[2] = 1\n",
    "\n",
    "B_m"
   ]
  },
  {
   "cell_type": "code",
   "execution_count": null,
   "metadata": {},
   "outputs": [],
   "source": []
  },
  {
   "cell_type": "code",
   "execution_count": null,
   "metadata": {},
   "outputs": [],
   "source": []
  }
 ],
 "metadata": {
  "kernelspec": {
   "display_name": "Python 3.9.7 ('base')",
   "language": "python",
   "name": "python3"
  },
  "language_info": {
   "codemirror_mode": {
    "name": "ipython",
    "version": 3
   },
   "file_extension": ".py",
   "mimetype": "text/x-python",
   "name": "python",
   "nbconvert_exporter": "python",
   "pygments_lexer": "ipython3",
   "version": "3.9.7"
  },
  "orig_nbformat": 4,
  "vscode": {
   "interpreter": {
    "hash": "ad2bdc8ecc057115af97d19610ffacc2b4e99fae6737bb82f5d7fb13d2f2c186"
   }
  }
 },
 "nbformat": 4,
 "nbformat_minor": 2
}
