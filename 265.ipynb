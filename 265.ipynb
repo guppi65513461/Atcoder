{
 "cells": [
  {
   "cell_type": "code",
   "execution_count": 17,
   "metadata": {},
   "outputs": [
    {
     "name": "stdout",
     "output_type": "stream",
     "text": [
      "3400\n"
     ]
    }
   ],
   "source": [
    "#A\n",
    "X,Y,N = map(int,input().split())\n",
    "res = 999999999\n",
    "\n",
    "for i in range(0,N+1):\n",
    "    for j in range(0,N+1):\n",
    "        if i + 3*j == N and X*i + Y*j < res:\n",
    "            res =  X*i + Y*j\n",
    "            #print(i,j,\"更新されました\")\n",
    "        elif N < 3:\n",
    "            res = i * X \n",
    "            \n",
    "print(res)"
   ]
  },
  {
   "cell_type": "code",
   "execution_count": 13,
   "metadata": {},
   "outputs": [
    {
     "data": {
      "text/plain": [
       "[1, 2, 3, 4, 5, 6, 7, 8]"
      ]
     },
     "execution_count": 13,
     "metadata": {},
     "output_type": "execute_result"
    }
   ],
   "source": [
    "list(range(1,9))"
   ]
  },
  {
   "cell_type": "code",
   "execution_count": 24,
   "metadata": {},
   "outputs": [
    {
     "name": "stdout",
     "output_type": "stream",
     "text": [
      "Yes\n"
     ]
    }
   ],
   "source": [
    "#B\n",
    "N_rooms,N_Bonuses,HP = map(int,input().split())\n",
    "A = list(map(int,input().split()))\n",
    "Bonuses = []\n",
    "\n",
    "for _ in range(N_Bonuses):\n",
    "    b_index, b_value = map(int,input().split())\n",
    "    Bonuses.append((b_index,b_value))\n",
    "\n",
    "\n",
    "result = \"Yes\"\n",
    "for bonus in Bonuses:\n",
    "    b_index, b_value = bonus\n",
    "    b_index -= 1\n",
    "    A[b_index] = A[b_index] - b_value\n",
    "\n",
    "\n",
    "for a in A:\n",
    "    HP = HP - a\n",
    "    if HP <= 0:\n",
    "        result = \"No\"\n",
    "        break\n",
    "\n",
    "print(result)"
   ]
  },
  {
   "cell_type": "code",
   "execution_count": 21,
   "metadata": {},
   "outputs": [
    {
     "name": "stdout",
     "output_type": "stream",
     "text": [
      "Yes\n"
     ]
    }
   ],
   "source": [
    "#B\n",
    "N_rooms,N_Bonuses,HP = 4,1,10\n",
    "A = [5,7,5]\n",
    "Bonuses = [(2,10)]\n",
    "\n",
    "result = \"Yes\"\n",
    "for bonus in Bonuses:\n",
    "    b_index, b_value = bonus\n",
    "    b_index -= 1\n",
    "    A[b_index] = A[b_index] - b_value\n",
    "\n",
    "\n",
    "for a in A:\n",
    "    HP = HP - a\n",
    "    if HP <= 0:\n",
    "        result = \"No\"\n",
    "        break\n",
    "\n",
    "print(result)"
   ]
  },
  {
   "cell_type": "code",
   "execution_count": 2,
   "metadata": {},
   "outputs": [],
   "source": [
    "#C Belt Conveyor\n",
    "convert_dict = {\"U\":[-1,0], \"D\":[1,0],\"L\":[0,-1], \"R\":[0,1]}\n",
    "Height, Width = map(int, input().split())\n",
    "map = []\n",
    "\n",
    "for _ in range(Height):\n",
    "    map.append(list(input()))"
   ]
  },
  {
   "cell_type": "code",
   "execution_count": 11,
   "metadata": {},
   "outputs": [
    {
     "name": "stdout",
     "output_type": "stream",
     "text": [
      "-1\n"
     ]
    }
   ],
   "source": [
    "#C Belt Conveyor\n",
    "convert_dict = {\"U\":[-1,0], \"D\":[1,0],\"L\":[0,-1], \"R\":[0,1]}\n",
    "Height, Width = map(int, input().split())\n",
    "map = []\n",
    "\n",
    "for _ in range(Height):\n",
    "    map.append(list(input()))\n",
    "\n",
    "position_log = []\n",
    "position = [1,1] #現在位置の高さ、横\n",
    "\n",
    "while True:\n",
    "    #print(\"現在地=\",position)  \n",
    "    position_log.append(position)\n",
    "    now_mark = map[position[0]-1][position[1]-1] #現在地の指示を確認\n",
    "\n",
    "    now_value = convert_dict[now_mark] #ベクトルに変換\n",
    "\n",
    "    position = [x+y for (x,y) in zip(position, now_value)] #値を更新\n",
    "    #print(now_mark,now_value)\n",
    "\n",
    "    if position[0] > Height or position[1] > Width:\n",
    "        position = [x-y for (x,y) in zip(position, now_value)]\n",
    "        position = [str(a) for a in position]\n",
    "        result = \" \".join(position)\n",
    "        #print(position)\n",
    "        break\n",
    "    elif position in position_log:\n",
    "        result = -1\n",
    "        break\n",
    "    elif position[0] < 1 or position[1] < 1:\n",
    "        position = [x-y for (x,y) in zip(position, now_value)]\n",
    "        position = [str(a) for a in position]\n",
    "        result = \" \".join(position)\n",
    "        #print(position)\n",
    "        break\n",
    "\n",
    "print(result)"
   ]
  },
  {
   "cell_type": "code",
   "execution_count": 4,
   "metadata": {},
   "outputs": [
    {
     "data": {
      "text/plain": [
       "-1"
      ]
     },
     "execution_count": 4,
     "metadata": {},
     "output_type": "execute_result"
    }
   ],
   "source": [
    "position"
   ]
  },
  {
   "cell_type": "code",
   "execution_count": 5,
   "metadata": {},
   "outputs": [
    {
     "data": {
      "text/plain": [
       "[[1, 1], [1, 2], [1, 3], [2, 3], [2, 2], [2, 1]]"
      ]
     },
     "execution_count": 5,
     "metadata": {},
     "output_type": "execute_result"
    }
   ],
   "source": [
    "position_log"
   ]
  },
  {
   "cell_type": "code",
   "execution_count": 4,
   "metadata": {},
   "outputs": [
    {
     "ename": "TypeError",
     "evalue": "'int' object is not subscriptable",
     "output_type": "error",
     "traceback": [
      "\u001b[1;31m---------------------------------------------------------------------------\u001b[0m",
      "\u001b[1;31mTypeError\u001b[0m                                 Traceback (most recent call last)",
      "\u001b[1;32m~\\AppData\\Local\\Temp/ipykernel_15848/3142312771.py\u001b[0m in \u001b[0;36m<module>\u001b[1;34m\u001b[0m\n\u001b[1;32m----> 1\u001b[1;33m \u001b[0mnow_mark\u001b[0m \u001b[1;33m=\u001b[0m \u001b[0mmap\u001b[0m\u001b[1;33m[\u001b[0m\u001b[0mposition\u001b[0m\u001b[1;33m[\u001b[0m\u001b[1;36m0\u001b[0m\u001b[1;33m]\u001b[0m\u001b[1;33m-\u001b[0m\u001b[1;36m1\u001b[0m\u001b[1;33m]\u001b[0m\u001b[1;33m[\u001b[0m\u001b[0mposition\u001b[0m\u001b[1;33m[\u001b[0m\u001b[1;36m1\u001b[0m\u001b[1;33m]\u001b[0m\u001b[1;33m-\u001b[0m\u001b[1;36m1\u001b[0m\u001b[1;33m]\u001b[0m\u001b[1;33m\u001b[0m\u001b[1;33m\u001b[0m\u001b[0m\n\u001b[0m",
      "\u001b[1;31mTypeError\u001b[0m: 'int' object is not subscriptable"
     ]
    }
   ],
   "source": [
    "now_mark = map[position[0]-1][position[1]-1]"
   ]
  },
  {
   "cell_type": "code",
   "execution_count": 6,
   "metadata": {},
   "outputs": [
    {
     "data": {
      "text/plain": [
       "'R'"
      ]
     },
     "execution_count": 6,
     "metadata": {},
     "output_type": "execute_result"
    }
   ],
   "source": [
    "map[0][0]"
   ]
  },
  {
   "cell_type": "code",
   "execution_count": 7,
   "metadata": {},
   "outputs": [
    {
     "ename": "TypeError",
     "evalue": "'int' object is not subscriptable",
     "output_type": "error",
     "traceback": [
      "\u001b[1;31m---------------------------------------------------------------------------\u001b[0m",
      "\u001b[1;31mTypeError\u001b[0m                                 Traceback (most recent call last)",
      "\u001b[1;32m~\\AppData\\Local\\Temp/ipykernel_15848/1956151295.py\u001b[0m in \u001b[0;36m<module>\u001b[1;34m\u001b[0m\n\u001b[1;32m----> 1\u001b[1;33m \u001b[0mposition\u001b[0m\u001b[1;33m[\u001b[0m\u001b[1;36m0\u001b[0m\u001b[1;33m]\u001b[0m\u001b[1;33m\u001b[0m\u001b[1;33m\u001b[0m\u001b[0m\n\u001b[0m",
      "\u001b[1;31mTypeError\u001b[0m: 'int' object is not subscriptable"
     ]
    }
   ],
   "source": [
    "position[0]"
   ]
  },
  {
   "cell_type": "code",
   "execution_count": null,
   "metadata": {},
   "outputs": [],
   "source": []
  }
 ],
 "metadata": {
  "kernelspec": {
   "display_name": "Python 3.9.7 ('base')",
   "language": "python",
   "name": "python3"
  },
  "language_info": {
   "codemirror_mode": {
    "name": "ipython",
    "version": 3
   },
   "file_extension": ".py",
   "mimetype": "text/x-python",
   "name": "python",
   "nbconvert_exporter": "python",
   "pygments_lexer": "ipython3",
   "version": "3.9.7"
  },
  "orig_nbformat": 4,
  "vscode": {
   "interpreter": {
    "hash": "ad2bdc8ecc057115af97d19610ffacc2b4e99fae6737bb82f5d7fb13d2f2c186"
   }
  }
 },
 "nbformat": 4,
 "nbformat_minor": 2
}
